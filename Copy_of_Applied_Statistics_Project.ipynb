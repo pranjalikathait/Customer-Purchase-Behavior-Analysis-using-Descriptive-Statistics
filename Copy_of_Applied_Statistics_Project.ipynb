{
  "cells": [
    {
      "cell_type": "markdown",
      "metadata": {
        "colab_type": "text",
        "id": "view-in-github"
      },
      "source": [
        "<a href=\"https://colab.research.google.com/github/pranjalikathait/Customer-Purchase-Behavior-Analysis-using-Descriptive-Statistics/blob/main/Copy_of_Applied_Statistics_Project.ipynb\" target=\"_parent\"><img src=\"https://colab.research.google.com/assets/colab-badge.svg\" alt=\"Open In Colab\"/></a>"
      ]
    },
    {
      "cell_type": "markdown",
      "metadata": {
        "id": "XVRRli7RVQFs"
      },
      "source": [
        "# Customer Purchase Behavior Analysis using Descriptive Statistics"
      ]
    },
    {
      "cell_type": "markdown",
      "metadata": {
        "id": "jfhbp8ZDB7If"
      },
      "source": [
        "# **Problem Statement**"
      ]
    },
    {
      "cell_type": "markdown",
      "metadata": {
        "id": "EB1yLJOSV1gx"
      },
      "source": [
        "I'm excited to welcome you to our Probability and Statistics project, which will take you on a journey through the world of data analysis. Today, we set out on a journey to extract important insights from a real-world dataset, which will guide us to educated judgements and strategies for improving our marketing efforts by optimising marketing techniques and increasing offer acceptance rates. We hope to uncover patterns, detect trends, and reveal correlations in our consumer data by applying probability theory and statistics."
      ]
    },
    {
      "cell_type": "markdown",
      "metadata": {
        "id": "C6I6fCk2B4W-"
      },
      "source": [
        "##About the Dataset"
      ]
    },
    {
      "cell_type": "markdown",
      "metadata": {
        "id": "E_yV1UBOAu7Z"
      },
      "source": [
        "\n",
        "\n",
        "Here's the link to the [dataset](https://docs.google.com/spreadsheets/d/12ln9iTNcVNOMYi_AU-OczKpa_KIP8XyVbsjk81Na8Yk/edit?usp=sharing)\n",
        "\n",
        "\n",
        "This data was gathered during last year's campaign.\n",
        "Data description is as follows;\n",
        "\n",
        "1. Response (target) - 1 if customer accepted the offer in the last campaign, 0 otherwise\n",
        "1. ID - Unique ID of each customer\n",
        "1. Year_Birth - Age of the customer\n",
        "1. Complain - 1 if the customer complained in the last 2 years\n",
        "1. Dt_Customer - date of customer's enrollment with the company\n",
        "1. Education - customer's level of education\n",
        "1. Marital - customer's marital status\n",
        "1. Kidhome - number of small children in customer's household\n",
        "1. Teenhome - number of teenagers in customer's household\n",
        "1. Income - customer's yearly household income\n",
        "1. MntFishProducts - the amount spent on fish products in the last 2 years\n",
        "1. MntMeatProducts - the amount spent on meat products in the last 2 years\n",
        "1. MntFruits - the amount spent on fruits products in the last 2 years\n",
        "1. MntSweetProducts - amount spent on sweet products in the last 2 years\n",
        "1. MntWines - the amount spent on wine products in the last 2 years\n",
        "1. MntGoldProds - the amount spent on gold products in the last 2 years\n",
        "1. NumDealsPurchases - number of purchases made with discount\n",
        "1. NumCatalogPurchases - number of purchases made using catalog (buying goods to be shipped through the mail)\n",
        "1. NumStorePurchases - number of purchases made directly in stores\n",
        "1. NumWebPurchases - number of purchases made through the company's website\n",
        "1. NumWebVisitsMonth - number of visits to company's website in the last month\n",
        "1. Recency - number of days since the last purchase\n",
        "\n",
        "\n",
        "\n"
      ]
    },
    {
      "cell_type": "markdown",
      "metadata": {
        "id": "70Yx-hemiBLw"
      },
      "source": [
        "# **Dataset Overview**"
      ]
    },
    {
      "cell_type": "markdown",
      "metadata": {
        "id": "A0jNPASeiH5l"
      },
      "source": [
        "**Our collection contains a variety of information**\n",
        "\n",
        "*   Response (target): Did the consumer accept the offer from the previous campaign?\n",
        "*   Demographics include age, education, and marital status.\n",
        "*   Behavioural factors include complaints, enrollment dates, and home composition.\n",
        "*   Spending Patterns: Categories include seafood, meat, fruits, sweets, wines, and gold products.\n",
        "*   Purchase metrics include deals, catalogue purchases, in-store transactions, online purchases, and more.\n",
        "\n",
        "\n",
        "\n",
        "\n",
        "\n",
        "\n",
        "\n",
        "\n",
        "\n",
        "\n",
        "\n",
        "\n"
      ]
    },
    {
      "cell_type": "markdown",
      "metadata": {
        "id": "HNjRqBCzXQww"
      },
      "source": [
        "##Task 1 - Basic CleanUp\n",
        "\n",
        "- **Clean and preprocess the dataset (handling missing values, data types, etc.).**\n",
        "\n",
        "- **Analyze the distribution of customer demographics (age, education, marital status) using descriptive statistics and visualizations.**"
      ]
    },
    {
      "cell_type": "markdown",
      "metadata": {
        "id": "AIUm4NpNX4vt"
      },
      "source": [
        "\n",
        "\n",
        "**Deliverables**:\n",
        "\n",
        "- **Cleaned and Preprocessed Dataset**:\n",
        "\n",
        "  Provide a detailed report on the steps taken to handle missing values, including imputation methods used if applicable.\n",
        "  Document the process of ensuring consistent data types for each variable, addressing any inconsistencies.\n",
        "\n",
        "- **Summary of Basic Statistics**:\n",
        "\n",
        "  Present calculated statistics such as mean, median, variance, and standard deviation for each relevant numerical variable.\n",
        "  Include a concise table or summary showcasing these measures for easy reference."
      ]
    },
    {
      "cell_type": "markdown",
      "metadata": {
        "id": "bDza2Cu0YpE6"
      },
      "source": [
        "##Task 2 - Descriptive Statistics \n",
        "\n",
        "- **Calculate measures of central tendency (mean, median, mode) and measures of dispersion (variance, standard deviation) for key variables. Identify and handle outliers if necessary.**\n"
      ]
    },
    {
      "cell_type": "markdown",
      "metadata": {
        "id": "pGrBYXGWZtYe"
      },
      "source": [
        "**Deliverables**:\n",
        "\n",
        "- **Descriptive statistics that reveal the central tendencies, variations, and potential outliers in the dataset.**:\n",
        "\n",
        "  "
      ]
    },
    {
      "cell_type": "markdown",
      "metadata": {
        "id": "GCB3OLxXaSCZ"
      },
      "source": [
        "## Task 3 - Probability Distributions \n",
        "\n",
        "- **Identify variables that could follow specific probability distributions (e.g., Binomial, Normal). Calculate probabilities and expected values based on these distributions.**\n",
        "\n"
      ]
    },
    {
      "cell_type": "markdown",
      "metadata": {
        "id": "kgjtExiJay2_"
      },
      "source": [
        "**Deliverables**:\n",
        "\n",
        "- **Determination of suitable probability distributions for relevant variables and corresponding calculated probabilities and expected values.**:\n",
        "\n",
        "  "
      ]
    },
    {
      "cell_type": "markdown",
      "metadata": {
        "id": "ZSHZP8wgcIKE"
      },
      "source": [
        "## Task 4: Insights and Customer Segmentation \n",
        "\n",
        "- **Explore relationships between customer characteristics and spending habits. Segment customers based on their behaviors and characteristics.**"
      ]
    },
    {
      "cell_type": "markdown",
      "metadata": {
        "id": "1UYOJxazcRi3"
      },
      "source": [
        "**Deliverables**:\n",
        "\n",
        "- **Key insights regarding relationships between variables and distinct customer segments based on behaviors.**\n",
        "\n",
        "  "
      ]
    },
    {
      "cell_type": "markdown",
      "metadata": {
        "id": "Fv6iVJbgiwf2"
      },
      "source": [
        "## Task 5: Conclusion and Recommendations\n",
        "\n",
        "- **Create clear visualizations to showcase your findings. Use insights to make recommendations for the company based on your analysis.**"
      ]
    },
    {
      "cell_type": "markdown",
      "metadata": {
        "id": "-z5hEuOejQjd"
      },
      "source": [
        "**Deliverables**:\n",
        "\n",
        "- **Well-designed visualizations that visually represent your insights and actionable recommendations based on customer behavior analysis.**"
      ]
    },
    {
      "cell_type": "markdown",
      "metadata": {
        "id": "Fib_ksA9jmii"
      },
      "source": [
        "## Bonus Task - Geogebra Experiment\n",
        "\n"
      ]
    },
    {
      "cell_type": "markdown",
      "metadata": {
        "id": "olsEhR8RjsIF"
      },
      "source": [
        "Here's the link to an intriguing GeoGebra experiment: [GeoGebra Experiment Link](https://www.geogebra.org/m/LZbwMZtJ)\n",
        "\n",
        "This experiment lets you simulate coin flips as per your preferences and specifications!\n",
        "\n",
        "Your task involves recording a video where you'll explain the concept of the **Law of Large Numbers** using this experiment. Dive further into the experience by adjusting the number of coins and exploring varying coin biases. "
      ]
    }
  ],
  "metadata": {
    "colab": {
      "include_colab_link": true,
      "provenance": []
    },
    "kernelspec": {
      "display_name": "Python 3",
      "name": "python3"
    },
    "language_info": {
      "name": "python"
    }
  },
  "nbformat": 4,
  "nbformat_minor": 0
}
